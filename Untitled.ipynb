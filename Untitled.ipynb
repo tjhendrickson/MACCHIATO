{
 "cells": [
  {
   "cell_type": "code",
   "execution_count": 3,
   "metadata": {},
   "outputs": [
    {
     "name": "stdout",
     "output_type": "stream",
     "text": [
      "Collecting git+git://github.com/aestrivex/bctpy.git@0.5.1\n",
      "  Cloning git://github.com/aestrivex/bctpy.git (to revision 0.5.1) to c:\\users\\timhe\\appdata\\local\\temp\\pip-req-build-adp06cs_\n",
      "Requirement already satisfied: numpy in c:\\programdata\\anaconda3\\lib\\site-packages (from bctpy==0.5.0) (1.16.5)\n",
      "Requirement already satisfied: scipy in c:\\programdata\\anaconda3\\lib\\site-packages (from bctpy==0.5.0) (1.3.1)\n",
      "Building wheels for collected packages: bctpy\n",
      "  Building wheel for bctpy (setup.py): started\n",
      "  Building wheel for bctpy (setup.py): finished with status 'done'\n",
      "  Created wheel for bctpy: filename=bctpy-0.5.0-cp37-none-any.whl size=93305 sha256=30ce995876988d1839c4b1c9a0cb7c9a214761d5ad652ad3e137f2af0a1a3535\n",
      "  Stored in directory: C:\\Users\\timhe\\AppData\\Local\\Temp\\pip-ephem-wheel-cache-7dja75qt\\wheels\\a4\\dc\\d1\\de7fe54b712a20739cdc9333b9b72eaba6d876ff3f234d9ec7\n",
      "Successfully built bctpy\n",
      "Installing collected packages: bctpy\n",
      "Successfully installed bctpy-0.5.0\n"
     ]
    },
    {
     "name": "stderr",
     "output_type": "stream",
     "text": [
      "  Running command git clone -q git://github.com/aestrivex/bctpy.git 'C:\\Users\\timhe\\AppData\\Local\\Temp\\pip-req-build-adp06cs_'\n",
      "  Running command git checkout -q 75b432fabd09eb99b91d77dc7451e8f7611dcc56\n"
     ]
    }
   ],
   "source": [
    "\n"
   ]
  },
  {
   "cell_type": "code",
   "execution_count": 4,
   "metadata": {},
   "outputs": [],
   "source": [
    "import bct\n",
    "import numpy as np\n",
    "import os"
   ]
  },
  {
   "cell_type": "code",
   "execution_count": 5,
   "metadata": {},
   "outputs": [],
   "source": [
    "connectome_data = np.load('../20200112_HCP4_Schaefer400_avgYeo17_plus_subcortical_corr_mats.npy')\n"
   ]
  },
  {
   "cell_type": "code",
   "execution_count": 6,
   "metadata": {},
   "outputs": [],
   "source": [
    "one_connectome = connectome_data[0:419,0:419,0\n",
    "                                ]\n"
   ]
  },
  {
   "cell_type": "code",
   "execution_count": 8,
   "metadata": {},
   "outputs": [],
   "source": [
    "x = bct.centrality.betweenness_wei(one_connectome)"
   ]
  },
  {
   "cell_type": "code",
   "execution_count": 9,
   "metadata": {},
   "outputs": [
    {
     "data": {
      "text/plain": [
       "(419,)"
      ]
     },
     "execution_count": 9,
     "metadata": {},
     "output_type": "execute_result"
    }
   ],
   "source": [
    "x.shape\n"
   ]
  },
  {
   "cell_type": "code",
   "execution_count": 10,
   "metadata": {},
   "outputs": [
    {
     "name": "stdout",
     "output_type": "stream",
     "text": [
      "Help on function betweenness_wei in module bct.algorithms.centrality:\n",
      "\n",
      "betweenness_wei(G)\n",
      "    Node betweenness centrality is the fraction of all shortest paths in\n",
      "    the network that contain a given node. Nodes with high values of\n",
      "    betweenness centrality participate in a large number of shortest paths.\n",
      "    \n",
      "    Parameters\n",
      "    ----------\n",
      "    L : NxN np.ndarray\n",
      "        directed/undirected weighted connection matrix\n",
      "    \n",
      "    Returns\n",
      "    -------\n",
      "    BC : Nx1 np.ndarray\n",
      "        node betweenness centrality vector\n",
      "    \n",
      "    Notes\n",
      "    -----\n",
      "       The input matrix must be a connection-length matrix, typically\n",
      "        obtained via a mapping from weight to length. For instance, in a\n",
      "        weighted correlation network higher correlations are more naturally\n",
      "        interpreted as shorter distances and the input matrix should\n",
      "        consequently be some inverse of the connectivity matrix.\n",
      "       Betweenness centrality may be normalised to the range [0,1] as\n",
      "        BC/[(N-1)(N-2)], where N is the number of nodes in the network.\n",
      "\n"
     ]
    }
   ],
   "source": [
    "help(bct.centrality.betweenness_wei)"
   ]
  },
  {
   "cell_type": "code",
   "execution_count": null,
   "metadata": {},
   "outputs": [],
   "source": []
  }
 ],
 "metadata": {
  "kernelspec": {
   "display_name": "Python 3",
   "language": "python",
   "name": "python3"
  },
  "language_info": {
   "codemirror_mode": {
    "name": "ipython",
    "version": 3
   },
   "file_extension": ".py",
   "mimetype": "text/x-python",
   "name": "python",
   "nbconvert_exporter": "python",
   "pygments_lexer": "ipython3",
   "version": "3.7.4"
  }
 },
 "nbformat": 4,
 "nbformat_minor": 2
}
